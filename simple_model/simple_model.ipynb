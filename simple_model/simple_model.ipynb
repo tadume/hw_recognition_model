{
 "cells": [
  {
   "cell_type": "markdown",
   "id": "63911425-b73e-4ac4-b490-7f7d58939e7d",
   "metadata": {},
   "source": [
    "# Simple Model"
   ]
  },
  {
   "cell_type": "code",
   "execution_count": 1,
   "id": "28c5ab36-82df-408b-bcaf-8c0bc25e0f7d",
   "metadata": {},
   "outputs": [],
   "source": [
    "import tensorflow as tf\n",
    "import numpy as np\n",
    "from matplotlib import pyplot as plt"
   ]
  },
  {
   "cell_type": "markdown",
   "id": "cb5de618-7782-47cd-a857-34d33da95b49",
   "metadata": {},
   "source": [
    "# Load Data"
   ]
  },
  {
   "cell_type": "code",
   "execution_count": 2,
   "id": "b0620cd1-38c0-4e76-ab31-a3d72b8ddb0b",
   "metadata": {},
   "outputs": [],
   "source": [
    "mnist = tf.keras.datasets.mnist\n",
    "(train_images, train_labels), (test_images, test_labels) = mnist.load_data()"
   ]
  },
  {
   "cell_type": "code",
   "execution_count": 3,
   "id": "55434710-4de9-4315-9690-51887dd1d007",
   "metadata": {},
   "outputs": [],
   "source": [
    "class_names = [str(i) for i in range(10)]"
   ]
  },
  {
   "cell_type": "code",
   "execution_count": 4,
   "id": "c5e61f14-988a-4f17-8421-355e503b9e23",
   "metadata": {},
   "outputs": [],
   "source": [
    "data = {\n",
    "    \"train_labels\": train_labels,\n",
    "    \"test_labels\": test_labels,\n",
    "    \"train_images\": train_images,\n",
    "    \"test_images\": test_images,\n",
    "}"
   ]
  },
  {
   "cell_type": "markdown",
   "id": "d32c8c0c-bedc-4893-bdd9-cea09cf0fc13",
   "metadata": {},
   "source": [
    "## type"
   ]
  },
  {
   "cell_type": "code",
   "execution_count": 5,
   "id": "72f4361f-6489-4ab0-a519-b922f1cf4aeb",
   "metadata": {},
   "outputs": [
    {
     "name": "stdout",
     "output_type": "stream",
     "text": [
      "train_labels : <class 'numpy.ndarray'>\n",
      "test_labels : <class 'numpy.ndarray'>\n",
      "train_images : <class 'numpy.ndarray'>\n",
      "test_images : <class 'numpy.ndarray'>\n"
     ]
    }
   ],
   "source": [
    "for key in data:\n",
    "    print(f\"{key} : {type(data[key])}\")"
   ]
  },
  {
   "cell_type": "markdown",
   "id": "579e9cc1-c219-4c4e-8e18-d8f2e661fdf5",
   "metadata": {},
   "source": [
    "## shape"
   ]
  },
  {
   "cell_type": "code",
   "execution_count": 6,
   "id": "9ea2cb63-9f1b-46ee-88b9-fd4e2fe47bd7",
   "metadata": {},
   "outputs": [
    {
     "name": "stdout",
     "output_type": "stream",
     "text": [
      "train_labels : (60000,)\n",
      "test_labels : (10000,)\n",
      "train_images : (60000, 28, 28)\n",
      "test_images : (10000, 28, 28)\n"
     ]
    }
   ],
   "source": [
    "for key in data:\n",
    "    print(f\"{key} : {data[key].shape}\")"
   ]
  },
  {
   "cell_type": "code",
   "execution_count": 7,
   "id": "dd521ef2-4ac6-4acf-ad0f-4cde4af5afdc",
   "metadata": {},
   "outputs": [
    {
     "name": "stdout",
     "output_type": "stream",
     "text": [
      "train_labels : 0, 9\n",
      "test_labels : 0, 9\n",
      "train_images : 0, 255\n",
      "test_images : 0, 255\n"
     ]
    }
   ],
   "source": [
    "for key in data:\n",
    "    print(f\"{key} : {data[key].min()}, {data[key].max()}\")"
   ]
  },
  {
   "cell_type": "markdown",
   "id": "2b1e424b-18a7-4a25-8dce-837aed43faf8",
   "metadata": {},
   "source": [
    "## labels"
   ]
  },
  {
   "cell_type": "code",
   "execution_count": 8,
   "id": "da7fd89e-48de-4d6c-8f4d-b44a2c69e217",
   "metadata": {},
   "outputs": [
    {
     "name": "stdout",
     "output_type": "stream",
     "text": [
      "trail_labels : [0 1 2 3 4 5 6 7 8 9]\n",
      "trail_labels : [0 1 2 3 4 5 6 7 8 9]\n"
     ]
    }
   ],
   "source": [
    "print(f\"trail_labels : {np.unique(train_labels)}\")\n",
    "print(f\"trail_labels : {np.unique(test_labels)}\")"
   ]
  },
  {
   "cell_type": "markdown",
   "id": "add7f7b7-a726-4173-8b77-a596dc4da14b",
   "metadata": {},
   "source": [
    "## sample"
   ]
  },
  {
   "cell_type": "code",
   "execution_count": 9,
   "id": "f3898994-10dc-46cc-96e0-dbd5d46ec898",
   "metadata": {
    "scrolled": true
   },
   "outputs": [
    {
     "data": {
      "text/plain": [
       "array([[  0,   0,   0,   0,   0,   0,   0,   0,   0,   0,   0,   0,   0,\n",
       "          0,   0,   0,   0,   0,   0,   0,   0,   0,   0,   0,   0,   0,\n",
       "          0,   0],\n",
       "       [  0,   0,   0,   0,   0,   0,   0,   0,   0,   0,   0,   0,   0,\n",
       "          0,   0,   0,   0,   0,   0,   0,   0,   0,   0,   0,   0,   0,\n",
       "          0,   0],\n",
       "       [  0,   0,   0,   0,   0,   0,   0,   0,   0,   0,   0,   0,   0,\n",
       "          0,   0,   0,   0,   0,   0,   0,   0,   0,   0,   0,   0,   0,\n",
       "          0,   0],\n",
       "       [  0,   0,   0,   0,   0,   0,   0,   0,   0,   0,   0,   0,   0,\n",
       "          0,   0,   0,   0,   0,   0,   0,   0,   0,   0,   0,   0,   0,\n",
       "          0,   0],\n",
       "       [  0,   0,   0,   0,   0,   0,   0,   0,   0,   0,   0,   0,   0,\n",
       "          0,   0,   0,   0,   0,   0,   0,   0,   0,   0,   0,   0,   0,\n",
       "          0,   0],\n",
       "       [  0,   0,   0,   0,   0,   0,   0,   0,   0,   0,   0,   0,   3,\n",
       "         18,  18,  18, 126, 136, 175,  26, 166, 255, 247, 127,   0,   0,\n",
       "          0,   0],\n",
       "       [  0,   0,   0,   0,   0,   0,   0,   0,  30,  36,  94, 154, 170,\n",
       "        253, 253, 253, 253, 253, 225, 172, 253, 242, 195,  64,   0,   0,\n",
       "          0,   0],\n",
       "       [  0,   0,   0,   0,   0,   0,   0,  49, 238, 253, 253, 253, 253,\n",
       "        253, 253, 253, 253, 251,  93,  82,  82,  56,  39,   0,   0,   0,\n",
       "          0,   0],\n",
       "       [  0,   0,   0,   0,   0,   0,   0,  18, 219, 253, 253, 253, 253,\n",
       "        253, 198, 182, 247, 241,   0,   0,   0,   0,   0,   0,   0,   0,\n",
       "          0,   0],\n",
       "       [  0,   0,   0,   0,   0,   0,   0,   0,  80, 156, 107, 253, 253,\n",
       "        205,  11,   0,  43, 154,   0,   0,   0,   0,   0,   0,   0,   0,\n",
       "          0,   0],\n",
       "       [  0,   0,   0,   0,   0,   0,   0,   0,   0,  14,   1, 154, 253,\n",
       "         90,   0,   0,   0,   0,   0,   0,   0,   0,   0,   0,   0,   0,\n",
       "          0,   0],\n",
       "       [  0,   0,   0,   0,   0,   0,   0,   0,   0,   0,   0, 139, 253,\n",
       "        190,   2,   0,   0,   0,   0,   0,   0,   0,   0,   0,   0,   0,\n",
       "          0,   0],\n",
       "       [  0,   0,   0,   0,   0,   0,   0,   0,   0,   0,   0,  11, 190,\n",
       "        253,  70,   0,   0,   0,   0,   0,   0,   0,   0,   0,   0,   0,\n",
       "          0,   0],\n",
       "       [  0,   0,   0,   0,   0,   0,   0,   0,   0,   0,   0,   0,  35,\n",
       "        241, 225, 160, 108,   1,   0,   0,   0,   0,   0,   0,   0,   0,\n",
       "          0,   0],\n",
       "       [  0,   0,   0,   0,   0,   0,   0,   0,   0,   0,   0,   0,   0,\n",
       "         81, 240, 253, 253, 119,  25,   0,   0,   0,   0,   0,   0,   0,\n",
       "          0,   0],\n",
       "       [  0,   0,   0,   0,   0,   0,   0,   0,   0,   0,   0,   0,   0,\n",
       "          0,  45, 186, 253, 253, 150,  27,   0,   0,   0,   0,   0,   0,\n",
       "          0,   0],\n",
       "       [  0,   0,   0,   0,   0,   0,   0,   0,   0,   0,   0,   0,   0,\n",
       "          0,   0,  16,  93, 252, 253, 187,   0,   0,   0,   0,   0,   0,\n",
       "          0,   0],\n",
       "       [  0,   0,   0,   0,   0,   0,   0,   0,   0,   0,   0,   0,   0,\n",
       "          0,   0,   0,   0, 249, 253, 249,  64,   0,   0,   0,   0,   0,\n",
       "          0,   0],\n",
       "       [  0,   0,   0,   0,   0,   0,   0,   0,   0,   0,   0,   0,   0,\n",
       "          0,  46, 130, 183, 253, 253, 207,   2,   0,   0,   0,   0,   0,\n",
       "          0,   0],\n",
       "       [  0,   0,   0,   0,   0,   0,   0,   0,   0,   0,   0,   0,  39,\n",
       "        148, 229, 253, 253, 253, 250, 182,   0,   0,   0,   0,   0,   0,\n",
       "          0,   0],\n",
       "       [  0,   0,   0,   0,   0,   0,   0,   0,   0,   0,  24, 114, 221,\n",
       "        253, 253, 253, 253, 201,  78,   0,   0,   0,   0,   0,   0,   0,\n",
       "          0,   0],\n",
       "       [  0,   0,   0,   0,   0,   0,   0,   0,  23,  66, 213, 253, 253,\n",
       "        253, 253, 198,  81,   2,   0,   0,   0,   0,   0,   0,   0,   0,\n",
       "          0,   0],\n",
       "       [  0,   0,   0,   0,   0,   0,  18, 171, 219, 253, 253, 253, 253,\n",
       "        195,  80,   9,   0,   0,   0,   0,   0,   0,   0,   0,   0,   0,\n",
       "          0,   0],\n",
       "       [  0,   0,   0,   0,  55, 172, 226, 253, 253, 253, 253, 244, 133,\n",
       "         11,   0,   0,   0,   0,   0,   0,   0,   0,   0,   0,   0,   0,\n",
       "          0,   0],\n",
       "       [  0,   0,   0,   0, 136, 253, 253, 253, 212, 135, 132,  16,   0,\n",
       "          0,   0,   0,   0,   0,   0,   0,   0,   0,   0,   0,   0,   0,\n",
       "          0,   0],\n",
       "       [  0,   0,   0,   0,   0,   0,   0,   0,   0,   0,   0,   0,   0,\n",
       "          0,   0,   0,   0,   0,   0,   0,   0,   0,   0,   0,   0,   0,\n",
       "          0,   0],\n",
       "       [  0,   0,   0,   0,   0,   0,   0,   0,   0,   0,   0,   0,   0,\n",
       "          0,   0,   0,   0,   0,   0,   0,   0,   0,   0,   0,   0,   0,\n",
       "          0,   0],\n",
       "       [  0,   0,   0,   0,   0,   0,   0,   0,   0,   0,   0,   0,   0,\n",
       "          0,   0,   0,   0,   0,   0,   0,   0,   0,   0,   0,   0,   0,\n",
       "          0,   0]], dtype=uint8)"
      ]
     },
     "execution_count": 9,
     "metadata": {},
     "output_type": "execute_result"
    }
   ],
   "source": [
    "train_images[0,:,:]"
   ]
  },
  {
   "cell_type": "code",
   "execution_count": 10,
   "id": "d72b4168-63ad-417b-b357-ae0976ca7434",
   "metadata": {
    "scrolled": true
   },
   "outputs": [
    {
     "data": {
      "text/plain": [
       "5"
      ]
     },
     "execution_count": 10,
     "metadata": {},
     "output_type": "execute_result"
    },
    {
     "data": {
      "image/png": "[encoded data removed]",
      "text/plain": [
       "<Figure size 640x480 with 2 Axes>"
      ]
     },
     "metadata": {},
     "output_type": "display_data"
    }
   ],
   "source": [
    "plt.imshow(train_images[0,:,:], cmap=plt.cm.binary)\n",
    "plt.colorbar()\n",
    "train_labels[0]"
   ]
  },
  {
   "cell_type": "code",
   "execution_count": 11,
   "id": "e0aea4fb-a5d7-41cb-b8c0-3ba794ace4ea",
   "metadata": {
    "scrolled": true
   },
   "outputs": [
    {
     "data": {
      "image/png": "[encoded data removed]",
      "text/plain": [
       "<Figure size 1000x1000 with 25 Axes>"
      ]
     },
     "metadata": {},
     "output_type": "display_data"
    }
   ],
   "source": [
    "plt.figure(figsize=(10,10))\n",
    "\n",
    "for i in range(25):\n",
    "    plt.subplot(5,5, i+1)\n",
    "    plt.xticks([])\n",
    "    plt.yticks([])\n",
    "    plt.imshow(train_images[i], cmap=plt.cm.binary)\n",
    "    plt.xlabel(train_labels[i])"
   ]
  },
  {
   "cell_type": "markdown",
   "id": "863b0277-20bd-49a4-b273-8b67184bdb73",
   "metadata": {},
   "source": [
    "# Process Data"
   ]
  },
  {
   "cell_type": "code",
   "execution_count": 12,
   "id": "4fe03a96-5088-4f77-8077-3f2f04e0426b",
   "metadata": {},
   "outputs": [],
   "source": [
    "train_images_norm = train_images / 255.0\n",
    "test_images_norm = test_images / 255.0"
   ]
  },
  {
   "cell_type": "code",
   "execution_count": 13,
   "id": "225592f5-fd53-436d-9d0c-0b4cb10615a7",
   "metadata": {},
   "outputs": [
    {
     "name": "stdout",
     "output_type": "stream",
     "text": [
      "float64\n",
      "0.0 ~ 1.0\n"
     ]
    }
   ],
   "source": [
    "print(train_images_norm.dtype)\n",
    "print(f\"{train_images_norm.min()} ~ {train_images_norm.max()}\")"
   ]
  },
  {
   "cell_type": "code",
   "execution_count": 14,
   "id": "0bb3cef5-374c-4ae8-bc14-249c2fe07bf7",
   "metadata": {},
   "outputs": [
    {
     "data": {
      "text/plain": [
       "([], [])"
      ]
     },
     "execution_count": 14,
     "metadata": {},
     "output_type": "execute_result"
    },
    {
     "data": {
      "image/png": "[encoded data removed]",
      "text/plain": [
       "<Figure size 1000x1000 with 4 Axes>"
      ]
     },
     "metadata": {},
     "output_type": "display_data"
    }
   ],
   "source": [
    "plt.figure(figsize=(10,10))\n",
    "plt.subplot(5,5,1)\n",
    "plt.imshow(train_images_norm[0], cmap=plt.cm.binary)\n",
    "plt.yticks([])\n",
    "plt.xticks([])\n",
    "plt.subplot(5,5,2)\n",
    "plt.colorbar()\n",
    "plt.imshow(train_images[0], cmap=plt.cm.binary)\n",
    "plt.colorbar()\n",
    "plt.yticks([])\n",
    "plt.xticks([])"
   ]
  },
  {
   "cell_type": "markdown",
   "id": "109b4661-40a2-4cbe-934e-6601a332dc8f",
   "metadata": {},
   "source": [
    "# Build the Model"
   ]
  },
  {
   "cell_type": "code",
   "execution_count": 15,
   "id": "c0eea234-461b-40fe-a78f-a24fe201e64c",
   "metadata": {},
   "outputs": [],
   "source": [
    "model = tf.keras.Sequential([\n",
    "    tf.keras.layers.Flatten(input_shape=(28,28)),\n",
    "    tf.keras.layers.Dense(128, activation=\"relu\"),\n",
    "    tf.keras.layers.Dense(10)\n",
    "])"
   ]
  },
  {
   "cell_type": "code",
   "execution_count": 16,
   "id": "fb53b7e3-1fa7-46bb-bf55-32218b8a329f",
   "metadata": {},
   "outputs": [
    {
     "data": {
      "text/plain": [
       "[<matplotlib.lines.Line2D at 0x16801dc10>]"
      ]
     },
     "execution_count": 16,
     "metadata": {},
     "output_type": "execute_result"
    },
    {
     "data": {
      "image/png": "[encoded data removed]",
      "text/plain": [
       "<Figure size 640x480 with 1 Axes>"
      ]
     },
     "metadata": {},
     "output_type": "display_data"
    }
   ],
   "source": [
    "def relu(x):\n",
    "    return np.maximum(0,x)\n",
    "\n",
    "x = np.arange(0,1,0.1)\n",
    "plt.ylim(-0.5,1.5)\n",
    "plt.grid()\n",
    "plt.plot(relu(x))"
   ]
  },
  {
   "cell_type": "code",
   "execution_count": 17,
   "id": "0439b4ef-f7fd-4127-8273-64a4ca7f8178",
   "metadata": {},
   "outputs": [
    {
     "name": "stdout",
     "output_type": "stream",
     "text": [
      "Model: \"sequential\"\n",
      "_________________________________________________________________\n",
      " Layer (type)                Output Shape              Param #   \n",
      "=================================================================\n",
      " flatten (Flatten)           (None, 784)               0         \n",
      "                                                                 \n",
      " dense (Dense)               (None, 128)               100480    \n",
      "                                                                 \n",
      " dense_1 (Dense)             (None, 10)                1290      \n",
      "                                                                 \n",
      "=================================================================\n",
      "Total params: 101,770\n",
      "Trainable params: 101,770\n",
      "Non-trainable params: 0\n",
      "_________________________________________________________________\n"
     ]
    }
   ],
   "source": [
    "model.summary()"
   ]
  },
  {
   "cell_type": "markdown",
   "id": "0df8a632-7fef-4c86-b862-cfb65392f37f",
   "metadata": {},
   "source": [
    "# Compile the Model"
   ]
  },
  {
   "cell_type": "code",
   "execution_count": 18,
   "id": "b47877c3-bd3a-4a8e-b38b-66502a4203b5",
   "metadata": {},
   "outputs": [],
   "source": [
    "model.compile(\n",
    "    loss=tf.keras.losses.SparseCategoricalCrossentropy(from_logits=True),\n",
    "    optimizer=\"adam\",\n",
    "    metrics=[\"sparse_categorical_accuracy\"]\n",
    ")"
   ]
  },
  {
   "cell_type": "markdown",
   "id": "ac032f5f-aee3-42cd-9d05-dc7b3bfb8e86",
   "metadata": {},
   "source": [
    "# fit"
   ]
  },
  {
   "cell_type": "code",
   "execution_count": 19,
   "id": "832004f1-d861-4cae-ab2c-838dbe4f943a",
   "metadata": {},
   "outputs": [
    {
     "name": "stdout",
     "output_type": "stream",
     "text": [
      "Epoch 1/5\n"
     ]
    },
    {
     "name": "stderr",
     "output_type": "stream",
     "text": [
      "2024-08-09 15:30:33.334213: W tensorflow/tsl/platform/profile_utils/cpu_utils.cc:128] Failed to get CPU frequency: 0 Hz\n"
     ]
    },
    {
     "name": "stdout",
     "output_type": "stream",
     "text": [
      "1875/1875 [==============================] - 3s 1ms/step - loss: 0.2630 - sparse_categorical_accuracy: 0.9245\n",
      "Epoch 2/5\n",
      "1875/1875 [==============================] - 2s 1ms/step - loss: 0.1141 - sparse_categorical_accuracy: 0.9665\n",
      "Epoch 3/5\n",
      "1875/1875 [==============================] - 3s 1ms/step - loss: 0.0778 - sparse_categorical_accuracy: 0.9766\n",
      "Epoch 4/5\n",
      "1875/1875 [==============================] - 2s 1ms/step - loss: 0.0581 - sparse_categorical_accuracy: 0.9826\n",
      "Epoch 5/5\n",
      "1875/1875 [==============================] - 2s 1ms/step - loss: 0.0445 - sparse_categorical_accuracy: 0.9864\n"
     ]
    },
    {
     "data": {
      "text/plain": [
       "<keras.callbacks.History at 0x1680f3ca0>"
      ]
     },
     "execution_count": 19,
     "metadata": {},
     "output_type": "execute_result"
    }
   ],
   "source": [
    "model.fit(\n",
    "    train_images_norm,\n",
    "    train_labels,\n",
    "    epochs=5\n",
    ")"
   ]
  },
  {
   "cell_type": "markdown",
   "id": "609a30d8-4fdc-4c70-82b1-3aeb5e0a586d",
   "metadata": {},
   "source": [
    "# evaluate"
   ]
  },
  {
   "cell_type": "code",
   "execution_count": 20,
   "id": "c787b6aa-610b-44aa-a730-60eabc21e455",
   "metadata": {},
   "outputs": [
    {
     "name": "stdout",
     "output_type": "stream",
     "text": [
      "313/313 - 0s - loss: 0.0858 - sparse_categorical_accuracy: 0.9721 - 258ms/epoch - 825us/step\n"
     ]
    },
    {
     "data": {
      "text/plain": [
       "[0.08577950298786163, 0.972100019454956]"
      ]
     },
     "execution_count": 20,
     "metadata": {},
     "output_type": "execute_result"
    }
   ],
   "source": [
    "model.evaluate(\n",
    "    test_images_norm,\n",
    "    test_labels,\n",
    "    verbose=2\n",
    ")"
   ]
  },
  {
   "cell_type": "markdown",
   "id": "0ddc7c31-66f3-49af-90f0-cd7567ba498e",
   "metadata": {},
   "source": [
    "# predict"
   ]
  },
  {
   "cell_type": "code",
   "execution_count": 21,
   "id": "98fd6f19-a4f9-41ba-9e25-3606f14a1cc2",
   "metadata": {},
   "outputs": [
    {
     "name": "stdout",
     "output_type": "stream",
     "text": [
      "313/313 [==============================] - 0s 425us/step\n"
     ]
    }
   ],
   "source": [
    "raw_predictions = model.predict(test_images_norm)"
   ]
  },
  {
   "cell_type": "code",
   "execution_count": 22,
   "id": "5e38bb5b-8bcf-4178-ad21-815a842ea8c8",
   "metadata": {},
   "outputs": [
    {
     "data": {
      "text/plain": [
       "(10000, 10)"
      ]
     },
     "execution_count": 22,
     "metadata": {},
     "output_type": "execute_result"
    }
   ],
   "source": [
    "raw_predictions.shape"
   ]
  },
  {
   "cell_type": "code",
   "execution_count": 23,
   "id": "1d452b47-10f0-4e62-a3a7-ed779d6360bf",
   "metadata": {},
   "outputs": [
    {
     "data": {
      "text/plain": [
       "array([ -3.2316444,  -5.3850865,   1.8532308,   2.8626544,  -9.904333 ,\n",
       "        -6.0059757, -13.731539 ,  13.239115 ,  -3.891539 ,  -2.3685424],\n",
       "      dtype=float32)"
      ]
     },
     "execution_count": 23,
     "metadata": {},
     "output_type": "execute_result"
    }
   ],
   "source": [
    "raw_predictions[0]"
   ]
  },
  {
   "cell_type": "code",
   "execution_count": 24,
   "id": "f47a273c-77aa-4055-8ca2-f0aa320fe110",
   "metadata": {},
   "outputs": [
    {
     "data": {
      "text/plain": [
       "-26.563658"
      ]
     },
     "execution_count": 24,
     "metadata": {},
     "output_type": "execute_result"
    }
   ],
   "source": [
    "raw_predictions[0].sum()"
   ]
  },
  {
   "cell_type": "code",
   "execution_count": 25,
   "id": "17e39b9c-7788-43df-aab4-7e4d69d15989",
   "metadata": {},
   "outputs": [
    {
     "data": {
      "text/plain": [
       "7"
      ]
     },
     "execution_count": 25,
     "metadata": {},
     "output_type": "execute_result"
    }
   ],
   "source": [
    "np.argmax(raw_predictions[0])"
   ]
  },
  {
   "cell_type": "code",
   "execution_count": 26,
   "id": "f20bb907-157d-46b4-9025-99c6dce1958c",
   "metadata": {},
   "outputs": [
    {
     "data": {
      "text/plain": [
       "7"
      ]
     },
     "execution_count": 26,
     "metadata": {},
     "output_type": "execute_result"
    }
   ],
   "source": [
    "test_labels[0]"
   ]
  },
  {
   "cell_type": "code",
   "execution_count": 27,
   "id": "69851362-52a7-4672-8bfd-3cf276c78c94",
   "metadata": {},
   "outputs": [],
   "source": [
    "prob_model = tf.keras.Sequential([\n",
    "    model,\n",
    "    tf.keras.layers.Softmax()\n",
    "])"
   ]
  },
  {
   "cell_type": "code",
   "execution_count": 28,
   "id": "809c1434-3ce8-4bf4-8682-bec24f89b8b9",
   "metadata": {},
   "outputs": [
    {
     "name": "stdout",
     "output_type": "stream",
     "text": [
      "313/313 [==============================] - 0s 433us/step\n"
     ]
    }
   ],
   "source": [
    "predictions = prob_model.predict(test_images_norm)"
   ]
  },
  {
   "cell_type": "code",
   "execution_count": 29,
   "id": "d3496f60-7bde-4afe-9102-cefc51c0fa1e",
   "metadata": {},
   "outputs": [
    {
     "name": "stdout",
     "output_type": "stream",
     "text": [
      "[7.0278411e-08 8.1581897e-09 1.1354153e-05 3.1156025e-05 8.8901629e-11\n",
      " 4.3847499e-09 1.9354208e-12 9.9995720e-01 3.6327304e-08 1.6659499e-07]\n",
      "(10000, 10)\n",
      "1.0\n",
      "7\n"
     ]
    }
   ],
   "source": [
    "print(predictions[0])\n",
    "print(predictions.shape)\n",
    "print(predictions[0].sum())\n",
    "print(np.argmax(predictions[0]))"
   ]
  },
  {
   "cell_type": "code",
   "execution_count": 30,
   "id": "764c30c3-af35-475a-89b4-3d72e10f8ad4",
   "metadata": {},
   "outputs": [
    {
     "data": {
      "text/plain": [
       "array([6, 4, 5, 1, 8, 0, 9, 2, 3, 7])"
      ]
     },
     "execution_count": 30,
     "metadata": {},
     "output_type": "execute_result"
    }
   ],
   "source": [
    "np.argsort(predictions[0])"
   ]
  },
  {
   "cell_type": "markdown",
   "id": "9d78f8df-2f1e-44c5-bf4b-a572a3caca4b",
   "metadata": {},
   "source": [
    "# verify model"
   ]
  },
  {
   "cell_type": "code",
   "execution_count": 31,
   "id": "f863957b-be3d-4aad-9afe-7f5aa47c0fb3",
   "metadata": {},
   "outputs": [
    {
     "data": {
      "text/plain": [
       "<matplotlib.image.AxesImage at 0x160501c10>"
      ]
     },
     "execution_count": 31,
     "metadata": {},
     "output_type": "execute_result"
    },
    {
     "data": {
      "image/png": "[encoded data removed]",
      "text/plain": [
       "<Figure size 640x480 with 1 Axes>"
      ]
     },
     "metadata": {},
     "output_type": "display_data"
    }
   ],
   "source": [
    "plt.imshow(test_images_norm[0], plt.cm.binary)"
   ]
  },
  {
   "cell_type": "code",
   "execution_count": 32,
   "id": "157b0567-bff2-424b-bba5-3e197e36595b",
   "metadata": {},
   "outputs": [
    {
     "data": {
      "image/png": "[encoded data removed]",
      "text/plain": [
       "<Figure size 640x480 with 1 Axes>"
      ]
     },
     "metadata": {},
     "output_type": "display_data"
    }
   ],
   "source": [
    "plt.bar(range(10), predictions[0])\n",
    "plt.xticks(range(10))\n",
    "plt.show()"
   ]
  },
  {
   "cell_type": "code",
   "execution_count": 33,
   "id": "7d799796-b4fa-4933-831e-326940fd0d74",
   "metadata": {},
   "outputs": [
    {
     "data": {
      "image/png": "[encoded data removed]",
      "text/plain": [
       "<Figure size 600x300 with 2 Axes>"
      ]
     },
     "metadata": {},
     "output_type": "display_data"
    }
   ],
   "source": [
    "plt.figure(figsize=(6,3))\n",
    "\n",
    "plt.subplot(1,2,1)\n",
    "plt.imshow(test_images_norm[0], cmap=plt.cm.binary)\n",
    "\n",
    "plt.subplot(1,2,2)\n",
    "plt.bar(range(10), predictions[0])\n",
    "plt.xticks(range(10))\n",
    "plt.show()"
   ]
  },
  {
   "cell_type": "code",
   "execution_count": 34,
   "id": "3c340fd4-831d-4e59-b8cb-0e6fc7144b2c",
   "metadata": {},
   "outputs": [],
   "source": [
    "def verify_prediction(i):\n",
    "    plt.figure(figsize=(6,3))\n",
    "\n",
    "    plt.subplot(1,2,1)\n",
    "    plt.imshow(test_images_norm[i], cmap=plt.cm.binary)\n",
    "    \n",
    "    plt.subplot(1,2,2)\n",
    "    plt.bar(range(10), predictions[i])\n",
    "    plt.xticks(range(10))\n",
    "    plt.show()"
   ]
  },
  {
   "cell_type": "code",
   "execution_count": 35,
   "id": "b3d4c3a7-3d82-4acf-8da8-85824a97275c",
   "metadata": {},
   "outputs": [
    {
     "data": {
      "image/png": "[encoded data removed]",
      "text/plain": [
       "<Figure size 600x300 with 2 Axes>"
      ]
     },
     "metadata": {},
     "output_type": "display_data"
    }
   ],
   "source": [
    "verify_prediction(2)"
   ]
  },
  {
   "cell_type": "markdown",
   "id": "45dde329-c6da-4d99-8e42-7854ec5a089a",
   "metadata": {},
   "source": [
    "# save and load the model"
   ]
  },
  {
   "cell_type": "code",
   "execution_count": 36,
   "id": "ea672819-436a-4c5c-8594-2191e94c4142",
   "metadata": {},
   "outputs": [],
   "source": [
    "prob_model.compile(\n",
    "    loss=tf.keras.losses.SparseCategoricalCrossentropy(from_logits=False),\n",
    "    optimizer=\"adam\",\n",
    "    metrics=[\"sparse_categorical_accuracy\"]\n",
    ")\n",
    "\n",
    "prob_model.save(\"../saved_models/simlpe_model.h5\")"
   ]
  },
  {
   "cell_type": "code",
   "execution_count": 37,
   "id": "e17193d7-65f1-4ffe-9d0d-202230e3cfcf",
   "metadata": {},
   "outputs": [],
   "source": [
    "loaded_model = tf.keras.models.load_model(\"../saved_models/simlpe_model.h5\")"
   ]
  },
  {
   "cell_type": "code",
   "execution_count": 38,
   "id": "234c7cd6-c0de-4f32-9e03-aea665e40364",
   "metadata": {},
   "outputs": [
    {
     "name": "stdout",
     "output_type": "stream",
     "text": [
      "313/313 [==============================] - 0s 1ms/step - loss: 0.0858 - sparse_categorical_accuracy: 0.9721\n"
     ]
    },
    {
     "data": {
      "text/plain": [
       "[0.08577950298786163, 0.972100019454956]"
      ]
     },
     "execution_count": 38,
     "metadata": {},
     "output_type": "execute_result"
    }
   ],
   "source": [
    "loaded_model.evaluate(\n",
    "    test_images_norm,\n",
    "    test_labels,\n",
    "    verbose=1\n",
    ")"
   ]
  },
  {
   "cell_type": "code",
   "execution_count": 39,
   "id": "49e9e0d5-da92-4d8d-9f53-b058b109837a",
   "metadata": {},
   "outputs": [
    {
     "data": {
      "image/png": "[encoded data removed]",
      "text/plain": [
       "<Figure size 600x300 with 2 Axes>"
      ]
     },
     "metadata": {},
     "output_type": "display_data"
    }
   ],
   "source": [
    "verify_prediction(2)"
   ]
  }
 ],
 "metadata": {
  "jupytext": {
   "cell_metadata_filter": "-all",
   "notebook_metadata_filter": "-all"
  },
  "kernelspec": {
   "display_name": "Python 3 (ipykernel)",
   "language": "python",
   "name": "python3"
  },
  "language_info": {
   "codemirror_mode": {
    "name": "ipython",
    "version": 3
   },
   "file_extension": ".py",
   "mimetype": "text/x-python",
   "name": "python",
   "nbconvert_exporter": "python",
   "pygments_lexer": "ipython3",
   "version": "3.8.18"
  }
 },
 "nbformat": 4,
 "nbformat_minor": 5
}
